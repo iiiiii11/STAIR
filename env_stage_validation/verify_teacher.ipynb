{
 "cells": [
  {
   "cell_type": "markdown",
   "metadata": {},
   "source": [
    "# Verify the stage bias in MetaWorld"
   ]
  },
  {
   "cell_type": "code",
   "execution_count": null,
   "metadata": {},
   "outputs": [],
   "source": [
    "import os\n",
    "import numpy as np\n",
    "import pandas as pd\n",
    "import random\n",
    "from IPython.display import display\n",
    "import time\n",
    "import platform\n",
    "import subprocess\n",
    "import pickle\n",
    "\n",
    "# setting\n",
    "env_name = 'drawer-open'  # ['door-open', 'drawer-open', 'window-open']\n",
    "long_env_name = 'metaworld_' + env_name + '-v2'"
   ]
  },
  {
   "cell_type": "code",
   "execution_count": null,
   "metadata": {},
   "outputs": [],
   "source": [
    "def load_segments(output_dir):\n",
    "    segments = []\n",
    "    for filename in os.listdir(output_dir):\n",
    "        if not filename.endswith(\".pkl\"):\n",
    "            continue\n",
    "        \n",
    "        pkl_path = os.path.join(output_dir, filename)\n",
    "        video_filename = filename.replace('.pkl', '.gif')\n",
    "        video_path = os.path.join(output_dir, video_filename)\n",
    "        \n",
    "        if not os.path.exists(video_path):\n",
    "            print(f\"warning: video {video_filename} does not exist, the segment is skipped\")\n",
    "            continue\n",
    "        \n",
    "        with open(pkl_path, 'rb') as f:\n",
    "            data = pickle.load(f)\n",
    "            start_idx = data['start_step']\n",
    "            episode = data['source_traj']\n",
    "            reward_sum = sum(data['rewards'])\n",
    "            \n",
    "            segments.append({\n",
    "                'start_idx': start_idx,\n",
    "                'episode': episode,\n",
    "                'reward_sum': reward_sum,\n",
    "                'video_path': video_path\n",
    "            })\n",
    "    return segments\n"
   ]
  },
  {
   "cell_type": "code",
   "execution_count": null,
   "metadata": {},
   "outputs": [],
   "source": [
    "base_path = f\"./segment/{long_env_name}/\"\n",
    "segments = load_segments(base_path)\n",
    "\n",
    "print(f'segment_len = {len(segments)}')\n",
    "\n",
    "output_csv = os.path.join(base_path, f\"human.csv\")\n",
    "if os.path.exists(output_csv):\n",
    "    df = pd.read_csv(output_csv)\n",
    "else:\n",
    "    df = pd.DataFrame(columns=[\n",
    "        'segment1_start_idx', 'segment1_episode', 'segment1_reward_sum',\n",
    "        'segment2_start_idx', 'segment2_episode', 'segment2_reward_sum',\n",
    "        'human_preference'\n",
    "    ])"
   ]
  },
  {
   "cell_type": "markdown",
   "metadata": {},
   "source": [
    "## Prompt\n",
    "\n",
    "### door-open\n",
    "\n",
    "The target behavior is that the robot arm smoothly rotates the door until it stays fully open at a clearly visible angle.\n",
    "If the arm moves abnormally, lower your priority for the segment.\n",
    "\n",
    "### drawer-open\n",
    "The target behavior is that the drawer is fully extended to its final position with controlled, direct pushing.\n",
    "If the arm moves abnormally, lower your priority for the segment.\n",
    "\n",
    "### window-open\n",
    "The target behavior is that the window slides horizontally to a clearly open position with coordinated gripper guidance.\n",
    "If the arm moves abnormally, lower your priority for the segment."
   ]
  },
  {
   "cell_type": "code",
   "execution_count": null,
   "metadata": {},
   "outputs": [],
   "source": [
    "from IPython.display import clear_output, HTML, Image\n",
    "import base64\n",
    "\n",
    "for i in range(20):\n",
    "    clear_output()\n",
    "    print(f\"{i+1}th among total 20 feedbacks\")\n",
    "    seg1, seg2 = random.sample(segments, 2)\n",
    "\n",
    "    time.sleep(0.1)\n",
    "    display(HTML(f'''\n",
    "    <div style=\"display: inline-block; margin-right: 100px;\">\n",
    "        <p> Please enter '1' for prefer the left segment or '2' for the right or '0' for skip. </p>\n",
    "        <img src=\"{seg1['video_path']}\" width=\"400\" loop=\"true\" >\n",
    "        <img src=\"{seg2['video_path']}\" width=\"400\" loop=\"true\" >\n",
    "    </div>\n",
    "    '''))\n",
    "\n",
    "    PERF_MAPPING = {\n",
    "        \"1\": \"1 0\",\n",
    "        \"2\": \"0 1\",\n",
    "        \"0\": \"- -\"\n",
    "    }\n",
    "    time.sleep(1)\n",
    "    select = input(\"Please enter '1' for prefer the left segment or '2' for the right or '0' for skip.1\")\n",
    "    if select == 'quit' or select == 'exit':\n",
    "        break\n",
    "    elif select not in ['1', '2', '0']:\n",
    "        print(\"Invalid input. \")\n",
    "        continue\n",
    "    new_entry = {\n",
    "        'segment1_start_idx': seg1['start_idx'],\n",
    "        'segment1_episode': seg1['episode'],\n",
    "        'segment1_reward_sum': f\"{seg1['reward_sum']:.2f}\",\n",
    "        'segment2_start_idx': seg2['start_idx'],\n",
    "        'segment2_episode': seg2['episode'],\n",
    "        'segment2_reward_sum': f\"{seg2['reward_sum']:.2f}\",\n",
    "        'human_preference': PERF_MAPPING[select]\n",
    "    }\n",
    "    df = pd.concat([df, pd.DataFrame([new_entry])], ignore_index=True)\n",
    "\n",
    "    df.to_csv(output_csv, index=False)\n",
    "    print(f\"\\nsave to {output_csv}\")\n",
    "\n",
    "\n",
    "df.to_csv(output_csv, index=False)\n",
    "print(f\"\\nsave to {output_csv}\")"
   ]
  }
 ],
 "metadata": {
  "kernelspec": {
   "display_name": "urlb4",
   "language": "python",
   "name": "python3"
  },
  "language_info": {
   "codemirror_mode": {
    "name": "ipython",
    "version": 3
   },
   "file_extension": ".py",
   "mimetype": "text/x-python",
   "name": "python",
   "nbconvert_exporter": "python",
   "pygments_lexer": "ipython3",
   "version": "3.8.20"
  },
  "orig_nbformat": 4
 },
 "nbformat": 4,
 "nbformat_minor": 2
}
